{
 "cells": [
  {
   "cell_type": "markdown",
   "id": "c9b60b7d",
   "metadata": {},
   "source": [
    "# Grasp Stability Exploratory Notebook"
   ]
  },
  {
   "cell_type": "code",
   "execution_count": null,
   "id": "c04be835",
   "metadata": {},
   "outputs": [],
   "source": [
    "# grasp_evaluation.ipynb\n",
    "\n",
    "import numpy as np\n",
    "from grasp_utils import grasp_evaluation\n",
    "import matplotlib.pyplot as plt\n",
    "from mpl_toolkits.mplot3d import Axes3D"
   ]
  },
  {
   "cell_type": "markdown",
   "id": "c5d6fec9",
   "metadata": {},
   "source": [
    "## Load Data"
   ]
  },
  {
   "cell_type": "code",
   "execution_count": null,
   "id": "7f83cab9",
   "metadata": {},
   "outputs": [],
   "source": [
    "# Load data from .npy files\n",
    "point_cloud = np.load('point_cloud.npy')       # (N, 3)\n",
    "joint_positions = np.load('joint_positions.npy')  # (M, 3)\n",
    "translation = np.array([0.0, 0.0, 0.0])  # Object translation before grasp"
   ]
  },
  {
   "cell_type": "markdown",
   "id": "5cafc66d",
   "metadata": {},
   "source": [
    "## Evaluate Grasp Stability"
   ]
  },
  {
   "cell_type": "code",
   "execution_count": null,
   "id": "accef04b",
   "metadata": {},
   "outputs": [],
   "source": [
    "# Evaluate grasp\n",
    "gws_quality, force_closure = grasp_evaluation(\n",
    "    # Method for estimating surface normals from the point cloud\n",
    "    # Options:\n",
    "    # - 'pca': Use PCA for normal estimation.\n",
    "    # - 'normal_estimation': Use Open3D normal estimation with k-nearest neighbors.\n",
    "    normal_method='normal_estimation',\n",
    "    \n",
    "    # Method for calculating Grasp Wrench Space (GWS)\n",
    "    # Options:\n",
    "    # - 'convex_hull': Use the convex hull of the wrenches formed by the contact points.\n",
    "    gws_method='convex_hull',\n",
    "    \n",
    "    # Method for evaluating Force Closure\n",
    "    # Options:\n",
    "    # - 'friction_cone': Evaluate force closure using friction cones at contact points.\n",
    "    closure_method='friction_cone',\n",
    "    \n",
    "    # Input point cloud (N, 3) array representing the 3D points of the object.\n",
    "    point_cloud=point_cloud,\n",
    "    \n",
    "    # Joint positions of the gripper at the moment of contact with the object (M, 3).\n",
    "    joint_positions=joint_positions,\n",
    "    \n",
    "    # Translation to apply to the point cloud to align it with the grasp.\n",
    "    # Example: np.array([0.0, 0.0, 0.0]) for no translation.\n",
    "    translation=translation,\n",
    "    \n",
    "    # (Optional) Number of nearest neighbors to use in normal estimation (for 'normal_estimation' method).\n",
    "    # Default is 30, but you can adjust this based on the density of your point cloud.\n",
    "    k_neighbors=30,\n",
    "    \n",
    "    # (Optional) Friction coefficient to use in friction cone analysis for force closure evaluation.\n",
    "    # A typical value might be 0.5, but adjust based on material properties (higher for rougher surfaces).\n",
    "    friction_coefficient=0.5\n",
    ")\n",
    "\n",
    "# Output results\n",
    "print(f\"GWS Quality (Convex Hull Volume): {gws_quality}\")\n",
    "print(f\"Force Closure Achieved: {force_closure}\")"
   ]
  },
  {
   "cell_type": "markdown",
   "id": "cbea41b2",
   "metadata": {},
   "source": [
    "## Visualize Grasp"
   ]
  },
  {
   "cell_type": "code",
   "execution_count": null,
   "id": "9969db18",
   "metadata": {},
   "outputs": [],
   "source": [
    "print(f\"GWS Quality (Convex Hull Volume): {gws_quality}\")\n",
    "print(f\"Force Closure Achieved: {force_closure}\")\n",
    "\n",
    "# Visualization\n",
    "fig = plt.figure(figsize=(10, 8))\n",
    "ax = fig.add_subplot(111, projection='3d')\n",
    "\n",
    "# Plot point cloud\n",
    "ax.scatter(point_cloud[:, 0], point_cloud[:, 1], point_cloud[:, 2],\n",
    "           c='lightgray', s=1, label='Point Cloud')\n",
    "\n",
    "# Plot joint positions\n",
    "ax.scatter(joint_positions[:, 0], joint_positions[:, 1],\n",
    "           joint_positions[:, 2], c='red', s=50, label='Joint Positions')\n",
    "\n",
    "ax.set_xlabel('X')\n",
    "ax.set_ylabel('Y')\n",
    "ax.set_zlabel('Z')\n",
    "ax.legend()\n",
    "plt.show()"
   ]
  }
 ],
 "metadata": {
  "kernelspec": {
   "display_name": "Python 3 (ipykernel)",
   "language": "python",
   "name": "python3"
  },
  "language_info": {
   "codemirror_mode": {
    "name": "ipython",
    "version": 3
   },
   "file_extension": ".py",
   "mimetype": "text/x-python",
   "name": "python",
   "nbconvert_exporter": "python",
   "pygments_lexer": "ipython3",
   "version": "3.9.12"
  }
 },
 "nbformat": 4,
 "nbformat_minor": 5
}
