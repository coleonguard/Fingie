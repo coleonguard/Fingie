{
 "cells": [
  {
   "cell_type": "markdown",
   "id": "55149b7e",
   "metadata": {},
   "source": [
    "# Grasping Learning Exploratory Notebook"
   ]
  },
  {
   "cell_type": "code",
   "execution_count": null,
   "id": "3639f398",
   "metadata": {},
   "outputs": [],
   "source": [
    "# Install necessary packages (if not already installed)\n",
    "# !pip install torch torchvision torchaudio\n",
    "# !pip install torch-geometric\n",
    "# !pip install wandb\n",
    "\n",
    "# Import necessary libraries\n",
    "import os\n",
    "import torch\n",
    "import wandb\n",
    "import numpy as np\n",
    "import matplotlib.pyplot as plt\n",
    "from datasets import GraspingDataset, create_data_loaders\n",
    "from models import initialize_model\n",
    "from losses import GraspingLoss\n",
    "from train_grasping import train_model, validate_model  # Import training and validation functions\n",
    "import torch.optim as optim\n",
    "from filtering import apply_filter  # Import the new filtering module\n",
    "\n",
    "# Set up notebook for inline plotting\n",
    "%matplotlib inline\n",
    "\n",
    "# Set random seeds for reproducibility\n",
    "torch.manual_seed(42)\n",
    "np.random.seed(42)\n",
    "\n",
    "# Set device\n",
    "device = torch.device(\"cuda\" if torch.cuda.is_available() else \"cpu\")\n",
    "print(f\"Using device: {device}\")\n",
    "\n",
    "# Configuration dictionary\n",
    "cfg = {\n",
    "    'seed': 42,\n",
    "    'batch_size': 32,\n",
    "    'validation_split': 0.2,\n",
    "    'learning_rate': 0.001,\n",
    "    'num_epochs': 10,\n",
    "    'model_type': 'TCN',  # 'TCN', 'Transformer', 'STGCN', or 'RNNWithAttention'\n",
    "    'num_channels': [64, 64, 64],\n",
    "    'kernel_size': 2,\n",
    "    'dropout': 0.2,\n",
    "    'hidden_size': 128,\n",
    "    'num_layers': 2,\n",
    "    'experiment_name': 'Grasping_with_TCN',\n",
    "    'filter_method': 'low_pass',  # Specify filter type ('ema', 'kalman', 'low_pass', 'savitzky_golay')\n",
    "    'filter_params': {\n",
    "        'cutoff_freq': 5.0,  # Parameters for the low pass filter\n",
    "        'fs': 50.0,\n",
    "        'order': 3\n",
    "    }\n",
    "    # Add more configuration parameters as needed\n",
    "}\n",
    "\n",
    "# Initialize WandB\n",
    "wandb.init(project=\"Grasping_Project\", entity=\"your_wandb_entity\",\n",
    "           name=cfg['experiment_name'], config=cfg)"
   ]
  },
  {
   "cell_type": "markdown",
   "id": "1141bde6",
   "metadata": {},
   "source": [
    "## Data Loading and Preprocessing"
   ]
  },
  {
   "cell_type": "code",
   "execution_count": null,
   "id": "d95a2fd7",
   "metadata": {},
   "outputs": [],
   "source": [
    "# Initialize dataset with filtering\n",
    "use_graph = cfg.get('model_type') == 'STGCN'\n",
    "filter_method = cfg.get('filter_method')  # Retrieve the filter method from the config\n",
    "filter_params = cfg.get('filter_params', {})  # Retrieve the filter parameters from the config\n",
    "\n",
    "dataset = GraspingDataset(data_path='path_to_your_data', use_graph=use_graph, \n",
    "                          filter_method=filter_method, filter_params=filter_params)  # Replace with actual data path\n",
    "\n",
    "input_dim = dataset.inputs.shape[2]\n",
    "output_dim = dataset.labels.shape[2]\n",
    "\n",
    "# Create data loaders using the function from datasets.py\n",
    "batch_size = cfg.get('batch_size', 32)\n",
    "validation_split = cfg.get('validation_split', 0.2)\n",
    "train_loader, val_loader = create_data_loaders(dataset, batch_size, validation_split)\n"
   ]
  },
  {
   "cell_type": "markdown",
   "id": "0d4f3faf",
   "metadata": {},
   "source": [
    "## Model Initialization"
   ]
  },
  {
   "cell_type": "code",
   "execution_count": null,
   "id": "756575ca",
   "metadata": {},
   "outputs": [],
   "source": [
    "# Initialize model using the function from models.py\n",
    "model_type = cfg.get('model_type', 'TCN')\n",
    "model = initialize_model(model_type, input_dim, output_dim, cfg)\n",
    "model.to(device)\n"
   ]
  },
  {
   "cell_type": "markdown",
   "id": "80b2549b",
   "metadata": {},
   "source": [
    "## Training"
   ]
  },
  {
   "cell_type": "code",
   "execution_count": null,
   "id": "111cb420",
   "metadata": {},
   "outputs": [],
   "source": [
    "# Train the model using train_model function from train_grasping.py\n",
    "train_model(model, train_loader, val_loader, cfg, device)"
   ]
  },
  {
   "cell_type": "markdown",
   "id": "b3e8eeb7",
   "metadata": {},
   "source": [
    "## Testing"
   ]
  },
  {
   "cell_type": "code",
   "execution_count": null,
   "id": "95d49ece",
   "metadata": {},
   "outputs": [],
   "source": [
    "# Evaluate on test data (if you have a separate test set)\n",
    "# For demonstration, we'll use the validation set as test set\n",
    "loss_fn = GraspingLoss()\n",
    "avg_test_loss = validate_model(model, val_loader, loss_fn, device, use_graph=use_graph)\n",
    "print(f\"Test Loss: {avg_test_loss:.4f}\")"
   ]
  },
  {
   "cell_type": "markdown",
   "id": "bdf44766",
   "metadata": {},
   "source": [
    "## Visualize Some Predictions"
   ]
  },
  {
   "cell_type": "code",
   "execution_count": null,
   "id": "b3e30f3d",
   "metadata": {},
   "outputs": [],
   "source": [
    "# Visualize some predictions\n",
    "data_iter = iter(val_loader)\n",
    "if use_graph:\n",
    "    data_sample, target_sample, edge_index = next(data_iter)\n",
    "else:\n",
    "    data_sample, target_sample = next(data_iter)\n",
    "data_sample = data_sample.to(device)\n",
    "target_sample = target_sample.to(device)\n",
    "model.eval()\n",
    "with torch.no_grad():\n",
    "    if use_graph:\n",
    "        data_sample_prepared = data_sample.permute(0, 2, 1).unsqueeze(-1)\n",
    "        output_sample = model(data_sample_prepared, edge_index[0].to(device))\n",
    "    else:\n",
    "        output_sample = model(data_sample)\n",
    "\n",
    "# Convert to CPU for plotting\n",
    "data_sample = data_sample.cpu()\n",
    "target_sample = target_sample.cpu()\n",
    "output_sample = output_sample.cpu()\n",
    "\n",
    "# Plot the first sample's target vs. prediction for the first output dimension\n",
    "plt.figure(figsize=(12, 6))\n",
    "plt.plot(target_sample[0, :, 0], label='True')\n",
    "plt.plot(output_sample[0, :, 0], label='Predicted')\n",
    "plt.xlabel('Time Step')\n",
    "plt.ylabel('Biomechanical Output (Dimension 0)')\n",
    "plt.title('True vs. Predicted Output')\n",
    "plt.legend()\n",
    "plt.show()"
   ]
  }
 ],
 "metadata": {
  "kernelspec": {
   "display_name": "Python 3 (ipykernel)",
   "language": "python",
   "name": "python3"
  },
  "language_info": {
   "codemirror_mode": {
    "name": "ipython",
    "version": 3
   },
   "file_extension": ".py",
   "mimetype": "text/x-python",
   "name": "python",
   "nbconvert_exporter": "python",
   "pygments_lexer": "ipython3",
   "version": "3.9.12"
  }
 },
 "nbformat": 4,
 "nbformat_minor": 5
}
